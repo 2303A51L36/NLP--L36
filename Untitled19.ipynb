{
  "nbformat": 4,
  "nbformat_minor": 0,
  "metadata": {
    "colab": {
      "provenance": [],
      "authorship_tag": "ABX9TyPAm/h4gmvUkHAKd05VCPnm",
      "include_colab_link": true
    },
    "kernelspec": {
      "name": "python3",
      "display_name": "Python 3"
    },
    "language_info": {
      "name": "python"
    }
  },
  "cells": [
    {
      "cell_type": "markdown",
      "metadata": {
        "id": "view-in-github",
        "colab_type": "text"
      },
      "source": [
        "<a href=\"https://colab.research.google.com/github/2303A51L36/NLP--L36/blob/main/Untitled19.ipynb\" target=\"_parent\"><img src=\"https://colab.research.google.com/assets/colab-badge.svg\" alt=\"Open In Colab\"/></a>"
      ]
    },
    {
      "cell_type": "code",
      "execution_count": 1,
      "metadata": {
        "colab": {
          "base_uri": "https://localhost:8080/"
        },
        "id": "vb8cBDXLt02D",
        "outputId": "9e1cf9e1-c5fd-48f1-ca78-be7b46dc60e0"
      },
      "outputs": [
        {
          "output_type": "stream",
          "name": "stdout",
          "text": [
            "Most likely weather sequence: ['Sunny', 'Sunny', 'Rainy']\n"
          ]
        }
      ],
      "source": [
        "import numpy as np\n",
        "\n",
        "# Hidden states\n",
        "states = [\"Sunny\", \"Rainy\"]\n",
        "\n",
        "# Observations\n",
        "observations = [\"Dry\", \"Damp\", \"Wet\"]\n",
        "\n",
        "# Transition probabilities matrix\n",
        "transition_prob = np.array([[0.8, 0.2],  # P(Sunny -> Sunny), P(Sunny -> Rainy)\n",
        "                            [0.4, 0.6]]) # P(Rainy -> Sunny), P(Rainy -> Rainy)\n",
        "\n",
        "# Emission probabilities matrix\n",
        "emission_prob = np.array([[0.6, 0.3, 0.1],  # P(Dry|Sunny), P(Damp|Sunny), P(Wet|Sunny)\n",
        "                          [0.1, 0.4, 0.5]]) # P(Dry|Rainy), P(Damp|Rainy), P(Wet|Rainy)\n",
        "\n",
        "# Initial probabilities vector\n",
        "initial_prob = np.array([0.5, 0.5])  # P(Sunny), P(Rainy)\n",
        "\n",
        "# Observed sequence\n",
        "obs_seq = [0, 1, 2]  # [\"Dry\", \"Damp\", \"Wet\"]\n",
        "\n",
        "def viterbi(obs_seq, states, initial_prob, transition_prob, emission_prob):\n",
        "    n_states = len(states)\n",
        "    T = len(obs_seq)\n",
        "\n",
        "    # Initialize the dynamic programming table and path pointer\n",
        "    dp = np.zeros((n_states, T))\n",
        "    path = np.zeros((n_states, T), dtype=int)\n",
        "\n",
        "    # Initialize base cases (t == 0)\n",
        "    for s in range(n_states):\n",
        "        dp[s, 0] = initial_prob[s] * emission_prob[s, obs_seq[0]]\n",
        "\n",
        "    # Run the Viterbi algorithm\n",
        "    for t in range(1, T):\n",
        "        for s in range(n_states):\n",
        "            probabilities = dp[:, t-1] * transition_prob[:, s] * emission_prob[s, obs_seq[t]]\n",
        "            dp[s, t] = np.max(probabilities)\n",
        "            path[s, t] = np.argmax(probabilities)\n",
        "\n",
        "    # Backtrack to find the optimal state sequence\n",
        "    optimal_path = np.zeros(T, dtype=int)\n",
        "    optimal_path[T-1] = np.argmax(dp[:, T-1])\n",
        "\n",
        "    for t in range(T-2, -1, -1):\n",
        "        optimal_path[t] = path[optimal_path[t+1], t+1]\n",
        "\n",
        "    optimal_states = [states[state] for state in optimal_path]\n",
        "    return optimal_states\n",
        "\n",
        "# Predict the most likely sequence of states\n",
        "predicted_states = viterbi(obs_seq, states, initial_prob, transition_prob, emission_prob)\n",
        "print(\"Most likely weather sequence:\", predicted_states)"
      ]
    }
  ]
}